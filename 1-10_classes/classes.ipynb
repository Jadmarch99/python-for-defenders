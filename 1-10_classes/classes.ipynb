{
 "cells": [
  {
   "cell_type": "code",
   "execution_count": 22,
   "metadata": {},
   "outputs": [],
   "source": [
    "class Car:\n",
    "    \"\"\" \n",
    "    A simple car. Can accelerate and decelerate\n",
    "\n",
    "    Parameters\n",
    "    ----------\n",
    "\n",
    "    year: int\n",
    "        year the car was made\n",
    "    make: str\n",
    "        Manufacturer\n",
    "    Model: str\n",
    "        Model name\n",
    "    top_speed\" int\n",
    "        Top speed in kilometers per hour\n",
    "    \"\"\"\n",
    "    def __init__(self, year, make, model, top_speed):\n",
    "        self.year = year\n",
    "        self.make = make\n",
    "        self.model = model\n",
    "        self.current_speed: int = 0\n",
    "        self.top_speed = top_speed\n",
    "\n",
    "    def __str__(self):\n",
    "        return f\"I am a {self.year} {self.make} {self.model} that can go up to {self.top_speed} km/h.\"\n",
    "    \n",
    "    def gas(self) -> int:\n",
    "        \"\"\" \n",
    "        Increase current speed safely.\n",
    "        \"\"\"\n",
    "        self.current_speed += 10\n",
    "        if self.current_speed > self.top_speed:\n",
    "            self.current_speed = self.top_speed\n",
    "        \n",
    "        return self.current_speed\n",
    "    \n",
    "    def brake(self) -> int:\n",
    "        \"\"\" \n",
    "        Decreases current speed safely.\n",
    "        \"\"\"\n",
    "        self.current_speed -= 10\n",
    "        if self.current_speed < 0:\n",
    "            self.current_speed = 0\n",
    "        \n",
    "        return self.current_speed\n",
    "# Class -> instances"
   ]
  },
  {
   "cell_type": "code",
   "execution_count": 23,
   "metadata": {},
   "outputs": [],
   "source": [
    "kitt = Car(1982, \"Ferrari\", \"FireRed\", \"300\")"
   ]
  },
  {
   "cell_type": "code",
   "execution_count": 24,
   "metadata": {},
   "outputs": [],
   "source": [
    "ecto = Car(2006, \"Toyota\", \"Corolla\", \"115\")"
   ]
  },
  {
   "cell_type": "code",
   "execution_count": 25,
   "metadata": {},
   "outputs": [
    {
     "name": "stdout",
     "output_type": "stream",
     "text": [
      "I am a 1982 Ferrari FireRed that can go up to 300 km/h.\n"
     ]
    }
   ],
   "source": [
    "print(kitt)"
   ]
  },
  {
   "cell_type": "code",
   "execution_count": 26,
   "metadata": {},
   "outputs": [
    {
     "name": "stdout",
     "output_type": "stream",
     "text": [
      "Help on class Car in module __main__:\n",
      "\n",
      "class Car(builtins.object)\n",
      " |  Car(year, make, model, top_speed)\n",
      " |  \n",
      " |  A simple car. Can accelerate and decelerate\n",
      " |  \n",
      " |  Parameters\n",
      " |  ----------\n",
      " |  \n",
      " |  year: int\n",
      " |      year the car was made\n",
      " |  make: str\n",
      " |      Manufacturer\n",
      " |  Model: str\n",
      " |      Model name\n",
      " |  top_speed\" int\n",
      " |      Top speed in kilometers per hour\n",
      " |  \n",
      " |  Methods defined here:\n",
      " |  \n",
      " |  __init__(self, year, make, model, top_speed)\n",
      " |      Initialize self.  See help(type(self)) for accurate signature.\n",
      " |  \n",
      " |  __str__(self)\n",
      " |      Return str(self).\n",
      " |  \n",
      " |  brake(self) -> int\n",
      " |      Decreases current speed safely.\n",
      " |  \n",
      " |  gas(self) -> int\n",
      " |      Increase current speed safely.\n",
      " |  \n",
      " |  ----------------------------------------------------------------------\n",
      " |  Data descriptors defined here:\n",
      " |  \n",
      " |  __dict__\n",
      " |      dictionary for instance variables (if defined)\n",
      " |  \n",
      " |  __weakref__\n",
      " |      list of weak references to the object (if defined)\n",
      "\n"
     ]
    }
   ],
   "source": [
    "help(Car)"
   ]
  },
  {
   "cell_type": "code",
   "execution_count": 27,
   "metadata": {},
   "outputs": [
    {
     "name": "stdout",
     "output_type": "stream",
     "text": [
      "\u001b[0;31mSignature:\u001b[0m \u001b[0mCar\u001b[0m\u001b[0;34m.\u001b[0m\u001b[0mgas\u001b[0m\u001b[0;34m(\u001b[0m\u001b[0mself\u001b[0m\u001b[0;34m)\u001b[0m \u001b[0;34m->\u001b[0m \u001b[0mint\u001b[0m\u001b[0;34m\u001b[0m\u001b[0;34m\u001b[0m\u001b[0m\n",
      "\u001b[0;31mDocstring:\u001b[0m Increase current speed safely.\n",
      "\u001b[0;31mFile:\u001b[0m      /tmp/ipykernel_2294/4221980377.py\n",
      "\u001b[0;31mType:\u001b[0m      function"
     ]
    }
   ],
   "source": [
    "Car.gas?"
   ]
  },
  {
   "cell_type": "code",
   "execution_count": 28,
   "metadata": {},
   "outputs": [
    {
     "name": "stdout",
     "output_type": "stream",
     "text": [
      "GO!\n"
     ]
    },
    {
     "ename": "TypeError",
     "evalue": "'>' not supported between instances of 'int' and 'str'",
     "output_type": "error",
     "traceback": [
      "\u001b[0;31m---------------------------------------------------------------------------\u001b[0m",
      "\u001b[0;31mTypeError\u001b[0m                                 Traceback (most recent call last)",
      "\u001b[1;32m/workspaces/python-for-defenders/1-10_classes/classes.ipynb Cell 7\u001b[0m line \u001b[0;36m6\n\u001b[1;32m      <a href='vscode-notebook-cell://codespaces%2Bprobable-guide-4jwvgv7xw44h7xp9/workspaces/python-for-defenders/1-10_classes/classes.ipynb#W6sdnNjb2RlLXJlbW90ZQ%3D%3D?line=3'>4</a>\u001b[0m \u001b[39mprint\u001b[39m(\u001b[39m\"\u001b[39m\u001b[39mGO!\u001b[39m\u001b[39m\"\u001b[39m)\n\u001b[1;32m      <a href='vscode-notebook-cell://codespaces%2Bprobable-guide-4jwvgv7xw44h7xp9/workspaces/python-for-defenders/1-10_classes/classes.ipynb#W6sdnNjb2RlLXJlbW90ZQ%3D%3D?line=4'>5</a>\u001b[0m \u001b[39mfor\u001b[39;00m i \u001b[39min\u001b[39;00m \u001b[39mrange\u001b[39m(\u001b[39m13\u001b[39m):\n\u001b[0;32m----> <a href='vscode-notebook-cell://codespaces%2Bprobable-guide-4jwvgv7xw44h7xp9/workspaces/python-for-defenders/1-10_classes/classes.ipynb#W6sdnNjb2RlLXJlbW90ZQ%3D%3D?line=5'>6</a>\u001b[0m     ecto\u001b[39m.\u001b[39;49mgas()\n\u001b[1;32m      <a href='vscode-notebook-cell://codespaces%2Bprobable-guide-4jwvgv7xw44h7xp9/workspaces/python-for-defenders/1-10_classes/classes.ipynb#W6sdnNjb2RlLXJlbW90ZQ%3D%3D?line=6'>7</a>\u001b[0m     kitt\u001b[39m.\u001b[39mgas()\n\u001b[1;32m      <a href='vscode-notebook-cell://codespaces%2Bprobable-guide-4jwvgv7xw44h7xp9/workspaces/python-for-defenders/1-10_classes/classes.ipynb#W6sdnNjb2RlLXJlbW90ZQ%3D%3D?line=7'>8</a>\u001b[0m     \u001b[39mprint\u001b[39m(\u001b[39mf\u001b[39m\u001b[39m\"\u001b[39m\u001b[39mEcto: \u001b[39m\u001b[39m{\u001b[39;00mecto\u001b[39m.\u001b[39mcurrent_speed\u001b[39m}\u001b[39;00m\u001b[39m | Kitt: \u001b[39m\u001b[39m{\u001b[39;00mkitt\u001b[39m.\u001b[39mcurrent_speed\u001b[39m}\u001b[39;00m\u001b[39m\"\u001b[39m)\n",
      "\u001b[1;32m/workspaces/python-for-defenders/1-10_classes/classes.ipynb Cell 7\u001b[0m line \u001b[0;36m3\n\u001b[1;32m     <a href='vscode-notebook-cell://codespaces%2Bprobable-guide-4jwvgv7xw44h7xp9/workspaces/python-for-defenders/1-10_classes/classes.ipynb#W6sdnNjb2RlLXJlbW90ZQ%3D%3D?line=27'>28</a>\u001b[0m \u001b[39m\u001b[39m\u001b[39m\"\"\" \u001b[39;00m\n\u001b[1;32m     <a href='vscode-notebook-cell://codespaces%2Bprobable-guide-4jwvgv7xw44h7xp9/workspaces/python-for-defenders/1-10_classes/classes.ipynb#W6sdnNjb2RlLXJlbW90ZQ%3D%3D?line=28'>29</a>\u001b[0m \u001b[39mIncrease current speed safely.\u001b[39;00m\n\u001b[1;32m     <a href='vscode-notebook-cell://codespaces%2Bprobable-guide-4jwvgv7xw44h7xp9/workspaces/python-for-defenders/1-10_classes/classes.ipynb#W6sdnNjb2RlLXJlbW90ZQ%3D%3D?line=29'>30</a>\u001b[0m \u001b[39m\"\"\"\u001b[39;00m\n\u001b[1;32m     <a href='vscode-notebook-cell://codespaces%2Bprobable-guide-4jwvgv7xw44h7xp9/workspaces/python-for-defenders/1-10_classes/classes.ipynb#W6sdnNjb2RlLXJlbW90ZQ%3D%3D?line=30'>31</a>\u001b[0m \u001b[39mself\u001b[39m\u001b[39m.\u001b[39mcurrent_speed \u001b[39m+\u001b[39m\u001b[39m=\u001b[39m \u001b[39m10\u001b[39m\n\u001b[0;32m---> <a href='vscode-notebook-cell://codespaces%2Bprobable-guide-4jwvgv7xw44h7xp9/workspaces/python-for-defenders/1-10_classes/classes.ipynb#W6sdnNjb2RlLXJlbW90ZQ%3D%3D?line=31'>32</a>\u001b[0m \u001b[39mif\u001b[39;00m \u001b[39mself\u001b[39;49m\u001b[39m.\u001b[39;49mcurrent_speed \u001b[39m>\u001b[39;49m \u001b[39mself\u001b[39;49m\u001b[39m.\u001b[39;49mtop_speed:\n\u001b[1;32m     <a href='vscode-notebook-cell://codespaces%2Bprobable-guide-4jwvgv7xw44h7xp9/workspaces/python-for-defenders/1-10_classes/classes.ipynb#W6sdnNjb2RlLXJlbW90ZQ%3D%3D?line=32'>33</a>\u001b[0m     \u001b[39mself\u001b[39m\u001b[39m.\u001b[39mcurrent_speed \u001b[39m=\u001b[39m \u001b[39mself\u001b[39m\u001b[39m.\u001b[39mtop_speed\n\u001b[1;32m     <a href='vscode-notebook-cell://codespaces%2Bprobable-guide-4jwvgv7xw44h7xp9/workspaces/python-for-defenders/1-10_classes/classes.ipynb#W6sdnNjb2RlLXJlbW90ZQ%3D%3D?line=34'>35</a>\u001b[0m \u001b[39mreturn\u001b[39;00m \u001b[39mself\u001b[39m\u001b[39m.\u001b[39mcurrent_speed\n",
      "\u001b[0;31mTypeError\u001b[0m: '>' not supported between instances of 'int' and 'str'"
     ]
    }
   ],
   "source": [
    "ecto.current_speed = 0\n",
    "kitt.current_speed = 0\n",
    "\n",
    "print(\"GO!\")\n",
    "for i in range(13):\n",
    "    ecto.gas()\n",
    "    kitt.gas()\n",
    "    print(f\"Ecto: {ecto.current_speed} | Kitt: {kitt.current_speed}\")\n",
    "\n",
    "print(\"STOP!\")\n",
    "for i in range(13):\n",
    "    ecto.brake()\n",
    "    kitt.brake()\n",
    "    print(f\"Ecto: {ecto.current_speed} | Kitt: {kitt.current_speed}\")"
   ]
  }
 ],
 "metadata": {
  "kernelspec": {
   "display_name": "Python 3",
   "language": "python",
   "name": "python3"
  },
  "language_info": {
   "codemirror_mode": {
    "name": "ipython",
    "version": 3
   },
   "file_extension": ".py",
   "mimetype": "text/x-python",
   "name": "python",
   "nbconvert_exporter": "python",
   "pygments_lexer": "ipython3",
   "version": "3.10.8"
  },
  "orig_nbformat": 4
 },
 "nbformat": 4,
 "nbformat_minor": 2
}
