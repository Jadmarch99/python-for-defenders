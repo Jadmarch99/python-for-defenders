{
 "cells": [
  {
   "cell_type": "markdown",
   "id": "d990c0f4-da9a-4643-9e66-34100343a2b5",
   "metadata": {},
   "source": [
    "# 1-10: Classes\n",
    "\n",
    "Python is what's known as an **Object-Oriented** language. When we work with Python code, we deal with structures meant to usefully describe our data with characteristics and capabilities that make data easier to reason about.\n",
    "\n",
    "Computers don't know anything. At the very base, a computer is only good at detecting the presence or absence of electicity. Everything else is just layers of abstraction above that. But that's not how people think about the universe, and modern programming languages have concepts that seek to more closely align computer mechanics with human thought. That's what objects are.\n",
    "\n",
    "Think of a kind of object. Let's take a car, for example. What makes a car a car?\n",
    "\n",
    "**A Meditation on Carness**\n",
    "\n",
    "* Has 4 wheels\n",
    "* Was built in a year\n",
    "* Was built by a company\n",
    "* Has a model name\n",
    "* Has a top speed, probably\n",
    "* Can move\n",
    "\n",
    "Most, if not all, cars are going to have these characteristics. If we wanted to define cars in Python, we would start by creating a car **Class**. \n",
    "\n",
    "Classes are blueprints for objects in Python. Any given individual object, like a specific car, would be an **instance** of the class.\n",
    "\n",
    "Classes are incredibly useful for structuring data, but making them takes some getting used to."
   ]
  },
  {
   "cell_type": "code",
   "execution_count": null,
   "id": "726bc27d-6d92-4195-83df-76f28ae58e2a",
   "metadata": {},
   "outputs": [],
   "source": []
  }
 ],
 "metadata": {
  "kernelspec": {
   "display_name": "Python 3 (ipykernel)",
   "language": "python",
   "name": "python3"
  },
  "language_info": {
   "codemirror_mode": {
    "name": "ipython",
    "version": 3
   },
   "file_extension": ".py",
   "mimetype": "text/x-python",
   "name": "python",
   "nbconvert_exporter": "python",
   "pygments_lexer": "ipython3",
   "version": "3.8.10"
  }
 },
 "nbformat": 4,
 "nbformat_minor": 5
}
