{
 "cells": [
  {
   "cell_type": "markdown",
   "id": "2e89798e-099a-497c-a9b9-8cac0ca77c45",
   "metadata": {},
   "source": [
    "# 1-5: Lists and Tuples\n",
    "\n",
    "Now that we've seen the basics of sequences with strings, we can address (get it??) data types more commonly used _as_ sequences: lists and tuples.\n",
    "\n",
    "## Lists\n",
    "\n",
    "Lists are collections of, well, stuff. In some languages, lists or arrays have to all be of the same data type. But not so in Python! \n",
    "\n",
    "Let's make our first Python list."
   ]
  },
  {
   "cell_type": "code",
   "execution_count": 1,
   "id": "df1080bc-efbb-4cad-a99a-80a983721101",
   "metadata": {},
   "outputs": [],
   "source": [
    "# A list with every data type we've covered so far\n",
    "stuff: list = [1, 3.0, \"A thing\", True, None]"
   ]
  },
  {
   "cell_type": "code",
   "execution_count": 2,
   "id": "ad20614c-5c96-4dab-adfc-990ea29a1e80",
   "metadata": {},
   "outputs": [
    {
     "data": {
      "text/plain": [
       "'A thing'"
      ]
     },
     "execution_count": 2,
     "metadata": {},
     "output_type": "execute_result"
    }
   ],
   "source": [
    "# Accessing a single element of the list\n",
    "stuff[2]"
   ]
  },
  {
   "cell_type": "markdown",
   "id": "b80a505a-0874-404e-a7d6-da4edcb74367",
   "metadata": {},
   "source": [
    "This is a pretty ridiculous list, and even though Python lets us make this kind of hodgepodge mess, let me implore you to _never do this_. For almost everything you'd want a list for, it will be important to have a single data type in there for predicatble results.\n",
    "\n",
    "Let's make another, saner, list."
   ]
  },
  {
   "cell_type": "code",
   "execution_count": 4,
   "id": "df307041-e738-45ab-b9b7-b883191f5c61",
   "metadata": {},
   "outputs": [],
   "source": [
    "crew: list = [\"Picard\", \"Riker\", \"Troi\", \"Worf\", \"LaForge\", \"Data\", \"Crusher\"]"
   ]
  },
  {
   "cell_type": "markdown",
   "id": "91910c68-f16c-4922-b318-2136b7a0f72f",
   "metadata": {},
   "source": [
    "Just go with it.\n",
    "\n",
    "Now that we have a list of strings, let's mess with the list beyond just accessing specific indices.\n",
    "\n",
    "### `append()` and `pop()`\n",
    "\n",
    "Probably the most frequent actions taken with lists are adding things to them and removing things from them. There are in fact several methods to do this, but `append()` and `pop()` are the most common (and efficient).\n",
    "\n",
    "`append()` will put an element on the end of a list. `pop()` will remove the last element from a list.\n",
    "\n",
    "Using just these methods turns a list into a **stack** data structure, or a last-in, first-out data structure. Think of a stack of plates in a cafeteria. Put on one, that's the next one that'll be taken off.\n",
    "\n",
    "`pop()` is distinct from `append()` in that it will **return** the element it removes. We haven't discussed returns just yet, but for now, that means we can take the result and save it in a variable.\n",
    "\n",
    "Here they are in action."
   ]
  },
  {
   "cell_type": "code",
   "execution_count": 5,
   "id": "67cd8e9c-6587-435f-830d-211ae8b34d98",
   "metadata": {},
   "outputs": [
    {
     "data": {
      "text/plain": [
       "['Picard', 'Riker', 'Troi', 'Worf', 'LaForge', 'Data', 'Crusher', 'Ro']"
      ]
     },
     "execution_count": 5,
     "metadata": {},
     "output_type": "execute_result"
    }
   ],
   "source": [
    "# Add a crewmember\n",
    "crew.append(\"Ro\")\n",
    "crew"
   ]
  },
  {
   "cell_type": "code",
   "execution_count": 6,
   "id": "26b48545-35e6-4699-ad99-2f788f7308fe",
   "metadata": {},
   "outputs": [
    {
     "name": "stdout",
     "output_type": "stream",
     "text": [
      "Removed Ro\n"
     ]
    },
    {
     "data": {
      "text/plain": [
       "['Picard', 'Riker', 'Troi', 'Worf', 'LaForge', 'Data', 'Crusher']"
      ]
     },
     "execution_count": 6,
     "metadata": {},
     "output_type": "execute_result"
    }
   ],
   "source": [
    "# Remove a crewmember\n",
    "ro: str = crew.pop()\n",
    "print(f\"Removed {ro}\")\n",
    "crew"
   ]
  },
  {
   "cell_type": "markdown",
   "id": "1d07b03c-d69c-4789-a4db-54584c38a332",
   "metadata": {},
   "source": [
    "### `insert()` and `remove()`\n",
    "\n",
    "Although `append()` and `pop()` are the most frequently used methods to change the contents of a list, [Python sequences](https://docs.python.org/3/library/stdtypes.html#sequence-types-list-tuple-range) have plenty of other abilities. Among them are `insert()` and `remove()`."
   ]
  }
 ],
 "metadata": {
  "kernelspec": {
   "display_name": "Python 3 (ipykernel)",
   "language": "python",
   "name": "python3"
  },
  "language_info": {
   "codemirror_mode": {
    "name": "ipython",
    "version": 3
   },
   "file_extension": ".py",
   "mimetype": "text/x-python",
   "name": "python",
   "nbconvert_exporter": "python",
   "pygments_lexer": "ipython3",
   "version": "3.8.10"
  }
 },
 "nbformat": 4,
 "nbformat_minor": 5
}
