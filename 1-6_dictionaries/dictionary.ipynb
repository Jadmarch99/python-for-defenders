{
 "cells": [
  {
   "cell_type": "code",
   "execution_count": 1,
   "metadata": {},
   "outputs": [],
   "source": [
    "users: dict = {\n",
    "    \"admin\":\"Password123\",\n",
    "    \"jhackme\": \"Summer2022\",\n",
    "    \"apwnerson\": \"letmein\"\n",
    "}"
   ]
  },
  {
   "cell_type": "code",
   "execution_count": 2,
   "metadata": {},
   "outputs": [
    {
     "data": {
      "text/plain": [
       "'Password123'"
      ]
     },
     "execution_count": 2,
     "metadata": {},
     "output_type": "execute_result"
    }
   ],
   "source": [
    "users[\"admin\"]"
   ]
  },
  {
   "cell_type": "code",
   "execution_count": 3,
   "metadata": {},
   "outputs": [],
   "source": [
    "users: list = [\n",
    "    {\n",
    "        \"username\": \"admin\",\n",
    "        \"password\": \"password123\",\n",
    "        \"first_name\": \"Admin\",\n",
    "        \"last_name\": \"Admin\",\n",
    "        \"enabled\": True\n",
    "    },\n",
    "    {\n",
    "        \"username\": \"jhackme\",\n",
    "        \"password\": \"Summer2022\",\n",
    "        \"first_name\": \"Joe\",\n",
    "        \"last_name\": \"Hackme\",\n",
    "        \"enabled\": True\n",
    "    },\n",
    "    {\n",
    "        \"username\": \"jpwners\",\n",
    "        \"password\": \"letmein!\",\n",
    "        \"fisrt_name\": \"Jane\",\n",
    "        \"last_name\": \"Pwnerson\",\n",
    "        \"enabled\": False\n",
    "    }\n",
    "]"
   ]
  },
  {
   "cell_type": "code",
   "execution_count": 4,
   "metadata": {},
   "outputs": [
    {
     "data": {
      "text/plain": [
       "{'username': 'admin',\n",
       " 'password': 'password123',\n",
       " 'first_name': 'Admin',\n",
       " 'last_name': 'Admin',\n",
       " 'enabled': True}"
      ]
     },
     "execution_count": 4,
     "metadata": {},
     "output_type": "execute_result"
    }
   ],
   "source": [
    "users[0]"
   ]
  },
  {
   "cell_type": "code",
   "execution_count": 5,
   "metadata": {},
   "outputs": [],
   "source": [
    "users: dict = {\n",
    "    \"admin\":{\n",
    "        \"username\": \"admin\",\n",
    "        \"password\": \"password123\",\n",
    "        \"first_name\": \"Admin\",\n",
    "        \"last_name\": \"Admin\",\n",
    "        \"enabled\": True\n",
    "    },\n",
    "    \"jhackme\":{\n",
    "        \"username\": \"jhackme\",\n",
    "        \"password\": \"Summer2022\",\n",
    "        \"first_name\": \"Joe\",\n",
    "        \"last_name\": \"Hackme\",\n",
    "        \"enabled\": True\n",
    "    },\n",
    "    \"jpwnerson\":{\n",
    "        \"username\": \"jpwners\",\n",
    "        \"password\": \"letmein!\",\n",
    "        \"fisrt_name\": \"Jane\",\n",
    "        \"last_name\": \"Pwnerson\",\n",
    "        \"enabled\": False\n",
    "    }\n",
    "}"
   ]
  },
  {
   "cell_type": "code",
   "execution_count": 7,
   "metadata": {},
   "outputs": [
    {
     "data": {
      "text/plain": [
       "'password123'"
      ]
     },
     "execution_count": 7,
     "metadata": {},
     "output_type": "execute_result"
    }
   ],
   "source": [
    "users[\"admin\"][\"password\"]"
   ]
  },
  {
   "cell_type": "code",
   "execution_count": null,
   "metadata": {},
   "outputs": [],
   "source": []
  }
 ],
 "metadata": {
  "kernelspec": {
   "display_name": "Python 3",
   "language": "python",
   "name": "python3"
  },
  "language_info": {
   "codemirror_mode": {
    "name": "ipython",
    "version": 3
   },
   "file_extension": ".py",
   "mimetype": "text/x-python",
   "name": "python",
   "nbconvert_exporter": "python",
   "pygments_lexer": "ipython3",
   "version": "3.10.8"
  },
  "orig_nbformat": 4
 },
 "nbformat": 4,
 "nbformat_minor": 2
}
